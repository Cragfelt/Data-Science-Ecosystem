{
 "cells": [
  {
   "cell_type": "markdown",
   "id": "92a8d5a2",
   "metadata": {},
   "source": [
    "# Data Science Tools and Ecosystem\n",
    "\n"
   ]
  },
  {
   "cell_type": "markdown",
   "id": "9ff0e0f9",
   "metadata": {},
   "source": [
    "In this notebook, Data Science Tools and Ecosystem are summarized."
   ]
  },
  {
   "cell_type": "markdown",
   "id": "958c08b6",
   "metadata": {},
   "source": [
    "**Objectives:**\n",
    "\n",
    "1. Categories of Data Science Tools\n",
    "2. Open Source Tools for Data Science\n",
    "3. Commercial and Clud Based Tools for Data Science\n",
    "4. Application Programming Interfaces (APIs)\n",
    "5. Machine Learning Models\n",
    "6. R Basics with RStudio and GitHub Repositories\n",
    "\n",
    "* Popular languages for Data Scientists\n",
    "* Common libraries used by Data Scientists\n",
    "* Data Science Tools\n",
    "* Examples of arithmetic expressions evaluation in Python\n",
    "* Sharing notebooks through GitHub"
   ]
  },
  {
   "cell_type": "markdown",
   "id": "1142f4b9",
   "metadata": {},
   "source": [
    "Some of the popular languages that Data Scientists use are:\n",
    "    \n",
    "    1. R\n",
    "    2. Python\n",
    "    3. SQL"
   ]
  },
  {
   "cell_type": "markdown",
   "id": "226b1e44",
   "metadata": {},
   "source": [
    "Some of the commonly used libraries used by Data Scientists include:\n",
    "\n",
    "    1. NumPy\n",
    "    2. Pandas\n",
    "    3. ggplot\n",
    "    4. TensorFlow\n",
    "    5. Matplotlib"
   ]
  },
  {
   "cell_type": "markdown",
   "id": "71634928",
   "metadata": {},
   "source": [
    "Data Science Tools\n",
    "\n",
    "| Column 1   |\n",
    "|:----------:|\n",
    "|  RStudio |\n",
    "|  Apache Spark   |\n",
    "|  TensorFlow   |"
   ]
  },
  {
   "cell_type": "markdown",
   "id": "3f09283c",
   "metadata": {},
   "source": [
    "### Below are a few examples of evaluating arithmetic expressions in Python\n",
    "\n"
   ]
  },
  {
   "cell_type": "code",
   "execution_count": 2,
   "id": "2e162113",
   "metadata": {},
   "outputs": [
    {
     "name": "stdout",
     "output_type": "stream",
     "text": [
      "17\n"
     ]
    }
   ],
   "source": [
    "# This a simple arithmetic expression to mutiply then add integers\n",
    "\n",
    "x = (3 * 4) + 5\n",
    "print(x)"
   ]
  },
  {
   "cell_type": "code",
   "execution_count": 8,
   "id": "23215493",
   "metadata": {},
   "outputs": [
    {
     "name": "stdout",
     "output_type": "stream",
     "text": [
      "Enter time in minutes: 200\n",
      "Hours= 3.3333333333333335\n"
     ]
    }
   ],
   "source": [
    "# This will convert 200 minutes to hours by diving by 60\n",
    "\n",
    "min = int(input(\"Enter time in minutes: \"))\n",
    "h = min / 60\n",
    "print(\"Hours=\",h)"
   ]
  },
  {
   "cell_type": "markdown",
   "id": "4381f435",
   "metadata": {},
   "source": [
    "## Author\n",
    "\n",
    "Luis Diego Aguilar"
   ]
  }
 ],
 "metadata": {
  "kernelspec": {
   "display_name": "Python 3 (ipykernel)",
   "language": "python",
   "name": "python3"
  },
  "language_info": {
   "codemirror_mode": {
    "name": "ipython",
    "version": 3
   },
   "file_extension": ".py",
   "mimetype": "text/x-python",
   "name": "python",
   "nbconvert_exporter": "python",
   "pygments_lexer": "ipython3",
   "version": "3.9.12"
  }
 },
 "nbformat": 4,
 "nbformat_minor": 5
}
